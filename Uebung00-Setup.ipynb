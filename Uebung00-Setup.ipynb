{
 "cells": [
  {
   "cell_type": "markdown",
   "metadata": {},
   "source": [
    "# Setting up ECLiPSe on macOS\n",
    "\n",
    "Using absence of all Logic to install a program for Logic"
   ]
  },
  {
   "cell_type": "code",
   "execution_count": 1,
   "metadata": {},
   "outputs": [
    {
     "name": "stdout",
     "output_type": "stream",
     "text": [
      "--> File already exists.\n",
      "--> Extracting Archive\n",
      "--> Compile..\n",
      "----------------------------------------------------------------------\n",
      "Welcome to the ECLiPSe installation procedure\n",
      "----------------------------------------------------------------------\n",
      "\n",
      "Which machine achitecture (ARCH) are we installing for [x86_64_macosx]? \n",
      "Hit return to accept, or enter new value: \n",
      "----------------------------------------------------------------------\n",
      "You now need to specify the directory path name that eclipse\n",
      "will use to find its libraries and other support files.\n",
      "This should be the FULL PATHNAME OF THE CURRENT DIRECTORY.\n",
      "If you have a networked file system, you may want to specify\n",
      "a symbolic path under which this directory can be found on all\n",
      "the networked machines.\n",
      "\n",
      "What is the current directory (ECLIPSEDIR) [/Users/robin/Repositories/HTW-Prolog/eclipse_basic]? \n",
      "Hit return to accept, or enter new value: \n",
      "----------------------------------------------------------------------\n",
      "Please specify now where you want the ECLiPSe executables to be\n",
      "installed. This can be within the ECLiPSe directory structure\n",
      "or alternatively in a place where you usually put executables,\n",
      "e.g. a directory that is already in your PATH.\n",
      "\n",
      "Where do you want to install executables [$ECLIPSEDIR/bin/x86_64_macosx]? \n",
      "Hit return to accept, or enter new value: \n",
      "----------------------------------------------------------------------\n",
      "For the graphical user interface TkECLiPSe you need Tcl/Tk (8.5 8.4 8.3).\n",
      "Cannot find tcl/tk library directories\n",
      "We will use the following Tcl/Tk installation:\n",
      "  TCL_VERSION:      8.5\n",
      "  TCL_WISH:         /usr/bin/wish8.5\n",
      "  TCL_ARCH_LIBRARY: /usr/lib\n",
      "  TCL_LIBRARY:      /usr/share/tcltk/tcl8.5\n",
      "  TK_LIBRARY:       \n",
      "  FRAMEWORK_PATH:   \n",
      "  TCL_XWISH:        \n",
      "\n",
      "Accept (a), find automatically (f), specify manually (m), or skip (s) [s]? \n",
      "Hit return to accept, or enter new value: \n",
      "----------------------------------------------------------------------\n",
      "ECLiPSe can interface to Java (version 1.2 or later).  If you wish\n",
      "to make use of this interface, please specify the location of your\n",
      "Java Runtime Environment (JRE_HOME).\n",
      "\n",
      "Where is your Java Runtime Environment installed (s to skip) []? \n",
      "Hit return to accept, or enter new value: \n",
      "----------------------------------------------------------------------\n",
      "You didn't unpack the ECLiPSe reference documentation.\n",
      "----------------------------------------------------------------------\n",
      "You have requested the default configuration of eclipse.\n",
      "----------------------------------------------------------------------\n",
      "Making /Users/robin/Repositories/HTW-Prolog/eclipse_basic/bin/x86_64_macosx/eclipse\n",
      "Making /Users/robin/Repositories/HTW-Prolog/eclipse_basic/bin/x86_64_macosx/tkeclipse\n",
      "Making /Users/robin/Repositories/HTW-Prolog/eclipse_basic/bin/x86_64_macosx/jeclipse\n",
      "Making /Users/robin/Repositories/HTW-Prolog/eclipse_basic/bin/x86_64_macosx/tktools\n",
      "Skipping build of reference documentation.\n",
      "----------------------------------------------------------------------\n",
      "ECLiPSe installation done.\n",
      "You should now add /Users/robin/Repositories/HTW-Prolog/eclipse_basic/bin/x86_64_macosx\n",
      "to your PATH environment variable.\n",
      "--> ALL DONE -- READY FOR USE.\n"
     ]
    }
   ],
   "source": [
    "# Download ECLiPSe Source (you only need to run this once)\n",
    "if ! [ -f \"eclipse_basic.tgz\" ]; then\n",
    "    echo \"--> Downloading ECLiPSe Code Archive\"\n",
    "    curl -O ftp://sunsite.informatik.rwth-aachen.de/pub/mirror/ECLiPSe-CLP/6.1_164/x86_64_macosx/eclipse_basic.tgz\n",
    "else\n",
    "    echo \"--> File already exists.\"\n",
    "fi\n",
    "\n",
    "# Extract The Archive\n",
    "if ! [ -d eclipse_basic/ ]; then\n",
    "    echo \"--> Extracting Archive\"\n",
    "    mkdir -p eclipse_basic/ && \\\n",
    "    tar -xf eclipse_basic.tgz -C eclipse_basic/\n",
    "else\n",
    "    echo \"--> File already extracted.\"\n",
    "fi\n",
    "\n",
    "# Compile eclipse and add to PATH\n",
    "if ! [ -f eclipse_basic/bin/eclipse  ];then\n",
    "    echo \"--> Compile..\"\n",
    "    cd eclipse_basic\n",
    "    # Simulate Key Inputs with echo..\n",
    "    ( echo -ne '\\n'\n",
    "    echo -ne '\\n'\n",
    "    echo -ne '\\n'\n",
    "    echo -ne '\\n'\n",
    "    echo 's'\n",
    "    echo 's') | ./RUNME\n",
    "    cp ./bin/x86_64_macosx/eclipse ../venv/bin/\n",
    "    echo \"--> ALL DONE -- READY FOR USE.\"\n",
    "else\n",
    "    echo \"--> Already Compiled.\"\n",
    "    if ! [ -f ../venv/bin/eclipse ];then\n",
    "        cp ./bin/x86_64_macosx/eclipse ../venv/bin/\n",
    "    else\n",
    "         echo \"--> Already in PATH.\"\n",
    "         echo \"--> ALL DONE -- READY FOR USE.\"\n",
    "    fi\n",
    "fi"
   ]
  },
  {
   "cell_type": "code",
   "execution_count": 2,
   "metadata": {},
   "outputs": [
    {
     "name": "stdout",
     "output_type": "stream",
     "text": [
      "ECLiPSe Constraint Logic Programming System [kernel]\n",
      "Kernel and basic libraries copyright Cisco Systems, Inc.\n",
      "and subject to the Cisco-style Mozilla Public Licence 1.1\n",
      "(see legal/cmpl.txt or http://eclipseclp.org/licence)\n",
      "Source available at www.sourceforge.org/projects/eclipse-clp\n",
      "GMP library copyright Free Software Foundation, see legal/lgpl.txt\n",
      "For other libraries see their individual copyright notices\n",
      "Version 6.1 #164 (x86_64_macosx), Mon Jul 15 23:37 2013\n",
      "[eclipse 1]: Hi\n",
      "\n",
      "Yes (0.00s cpu)\n",
      "[eclipse 2]: \n",
      "bye\n"
     ]
    }
   ],
   "source": [
    "# Test if it works:\n",
    "# Create a file 'test.ecl' with some logic\n",
    "cat <<EOF > test.ecl\n",
    "r:- [test].\n",
    "hello :- writeln('Hi').\n",
    "EOF\n",
    "\n",
    "# Load the Logic and ask:\n",
    "eclipse -f test.ecl <<EOF\n",
    "hello.\n",
    "EOF"
   ]
  },
  {
   "cell_type": "markdown",
   "metadata": {
    "collapsed": true
   },
   "source": [
    "### For help go to http://www.eclipseclp.org/doc/bips/fullindex.html"
   ]
  },
  {
   "cell_type": "code",
   "execution_count": 3,
   "metadata": {},
   "outputs": [
    {
     "name": "stdout",
     "output_type": "stream",
     "text": [
      "/Users/robin/Repositories/HTW-Prolog/eclipse_basic\n"
     ]
    }
   ],
   "source": [
    "pwd"
   ]
  },
  {
   "cell_type": "code",
   "execution_count": null,
   "metadata": {
    "collapsed": true
   },
   "outputs": [],
   "source": []
  }
 ],
 "metadata": {
  "kernelspec": {
   "display_name": "Bash",
   "language": "bash",
   "name": "bash"
  },
  "language_info": {
   "codemirror_mode": "shell",
   "file_extension": ".sh",
   "mimetype": "text/x-sh",
   "name": "bash"
  }
 },
 "nbformat": 4,
 "nbformat_minor": 2
}
