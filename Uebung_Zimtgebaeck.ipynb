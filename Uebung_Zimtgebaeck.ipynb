{
 "cells": [
  {
   "cell_type": "code",
   "execution_count": 50,
   "metadata": {
    "scrolled": false
   },
   "outputs": [
    {
     "name": "stdout",
     "output_type": "stream",
     "text": [
      "File semantic.ecl, line 25: Singleton variable Gramm\n",
      "ECLiPSe Constraint Logic Programming System [kernel]\n",
      "Kernel and basic libraries copyright Cisco Systems, Inc.\n",
      "and subject to the Cisco-style Mozilla Public Licence 1.1\n",
      "(see legal/cmpl.txt or http://eclipseclp.org/licence)\n",
      "Source available at www.sourceforge.org/projects/eclipse-clp\n",
      "GMP library copyright Free Software Foundation, see legal/lgpl.txt\n",
      "For other libraries see their individual copyright notices\n",
      "Version 6.1 #164 (x86_64_macosx), Mon Jul 15 23:37 2013\n",
      "[eclipse 1]: \n",
      "Gewicht = 680\n",
      "Yes (0.00s cpu)\n",
      "[eclipse 2]: \n",
      "bye\n"
     ]
    }
   ],
   "source": [
    "cat <<EOF > semantic.ecl\n",
    "r:- [semantic].\n",
    "\n",
    "ist_ein(backware,nachrungsmittel).\n",
    "ist_ein(zimtgebaeck,backware).\n",
    "ist_ein(haselnuesse, frucht).\n",
    "ist_ein(frucht, nahrungsmittel).\n",
    "ist_ein(X,Z) :- ist_ein(X,Y), ist_ein(Y,Z).\n",
    "\n",
    "hat_Teil(zimtgebaeck,eier).\n",
    "hat_Teil(zimtgebaeck,haselnuesse).\n",
    "hat_Teil(zimtgebaeck,zimtpulver).\n",
    "hat_Teil(zimtgebaeck,mehl).\n",
    "hat_Teil(zimtgebaeck,zucker).\n",
    "hat_Teil(zimtgebaeck,butter).\n",
    "% Nicht notwendig, sonst StackOverflow\n",
    "% hat_Teil(X,Y) :- hat_Teil(X, Z), ist_ein(Z,Y).\n",
    "\n",
    "hat_Menge(butter,gramm,150).\n",
    "hat_Menge(eier,stueck,2).\n",
    "hat_Menge(mehl,gramm,140).\n",
    "hat_Menge(zucker,gramm,170).\n",
    "hat_Menge(haselnuesse,gramm,150).\n",
    "hat_Menge(zimtpulver,essloeffel,1).\n",
    "\n",
    "enthalten(X,Y,Gramm) :- hat_Teil(X,Y), hat_Menge(Y,gramm,Gramm).\n",
    "enthalten(X,Y,0) :- hat_Teil(X,Y), not hat_Menge(Y,gramm,Gramm).\n",
    "enthalten(X,Y,Gr) :- hat_Teil(X,Y), hat_Menge(Y,W,_), not(W=gramm), einwaage(Y,gramm,Gr).\n",
    "\n",
    "einwaage(zimtpulver, gramm, Gr) :- hat_Menge(zimtpulver,essloeffel,Anz), Gr is 10*Anz.\n",
    "einwaage(eier,gramm,Gramm) :- hat_Menge(eier,stueck,Stueck), Gramm is 30*Stueck.\n",
    "gewicht(X,Gew) :- findall(Gramm, enthalten(X,_,Gramm),GrammList), Gew is sum(GrammList).\n",
    "\n",
    "EOF\n",
    "\n",
    "# Load the Logic and ask:\n",
    "eclipse -f semantic.ecl <<EOF\n",
    "?- gewicht(zimtgebaeck,Gewicht).\n",
    "EOF"
   ]
  },
  {
   "cell_type": "code",
   "execution_count": 2,
   "metadata": {},
   "outputs": [
    {
     "name": "stdout",
     "output_type": "stream",
     "text": [
      "ECLiPSe Constraint Logic Programming System [kernel]\n",
      "Kernel and basic libraries copyright Cisco Systems, Inc.\n",
      "and subject to the Cisco-style Mozilla Public Licence 1.1\n",
      "(see legal/cmpl.txt or http://eclipseclp.org/licence)\n",
      "Source available at www.sourceforge.org/projects/eclipse-clp\n",
      "GMP library copyright Free Software Foundation, see legal/lgpl.txt\n",
      "For other libraries see their individual copyright notices\n",
      "Version 6.1 #164 (x86_64_macosx), Mon Jul 15 23:37 2013\n",
      "[eclipse 1]: calling an undefined procedure ra :- reload('semantic_ops.ecl') in module eclipse\n",
      "Abort\n",
      "[eclipse 2]: calling an undefined procedure ops in module eclipse\n",
      "Abort\n",
      "[eclipse 3]: calling an undefined procedure run in module eclipse\n",
      "Abort\n",
      "[eclipse 4]: \n",
      "bye\n"
     ]
    }
   ],
   "source": [
    "cat <<EOF > semantic_ops.ecl\n",
    "r:- [semantic_ops].\n",
    "\n",
    "% Hier sind die Fakten\n",
    ":- make(ist_ein(backware,nachrungsmittel)).\n",
    ":- make(ist_ein(zimtgebaeck,backware)).\n",
    ":- make(ist_ein(haselnuesse, frucht)).\n",
    ":- make(ist_ein(frucht, nahrungsmittel)).\n",
    "\n",
    ":- make(hat_Teil(zimtgebaeck,eier)).\n",
    ":- make(hat_Teil(zimtgebaeck,haselnuesse)).\n",
    ":- make(hat_Teil(zimtgebaeck,zimtpulver)).\n",
    ":- make(hat_Teil(zimtgebaeck,mehl)).\n",
    ":- make(hat_Teil(zimtgebaeck,zucker)).\n",
    ":- make(hat_Teil(zimtgebaeck,butter)).\n",
    "\n",
    ":- make(hat_Menge(butter,gramm,150)).\n",
    ":- make(hat_Menge(eier,stueck,2)).\n",
    ":- make(hat_Menge(mehl,gramm,140)).\n",
    ":- make(hat_Menge(zucker,gramm,170)).\n",
    ":- make(hat_Menge(haselnuesse,gramm,150)).\n",
    ":- make(hat_Menge(zimtpulver,essloeffel,1)).\n",
    "\n",
    "% Hier sind die Regeln\n",
    "% Alternativ: :- build(rNo,(Regel --> Fakt)).\n",
    ":- build(r1,if(ist_ein(X,Z), ist_ein(X,Y)),then,make(ist_ein(Y,Z))).\n",
    ":- build(r2,if(hat_Teil(X,Y), hat_Menge(Y,gramm,Gramm)),then,make(enthalten(X,Y,Gramm))\n",
    ":- build(r3,if(hat_Teil(X,Y), not hat_Menge(Y,gramm,Gramm)),then,make(enthalten(X,Y,0))).\n",
    ":- build(r4,if(hat_Teil(X,Y), hat_Menge(Y,W,_), not(W=gramm), einwaage(Y,gramm,Gr).),then,make(enthalten(X,Y,Gr))).\n",
    ":- build(r5,if(hat_Menge(zimtpulver,essloeffel,Anz), Gr is 10*Anz),then,make(einwaage(zimtpulver, gramm, Gr))).\n",
    ":- build(r6,if(hat_Menge(eier,stueck,Stueck), Gramm is 30*Stueck),then,make(einwaage(eier,gramm,Gramm))).\n",
    ":- build(frage,if(findall(Gramm, enthalten(X,_,Gramm),GrammList),Gew is sum(GrammList)),then,(gewicht(X,Gew),n1,halt)).\n",
    "\n",
    "EOF\n",
    "\n",
    "# Load the Logic and ask:\n",
    "eclipse <<EOF\n",
    "ra:- reload('semantic_ops.ecl').\n",
    "ops.\n",
    "run.\n",
    "EOF"
   ]
  },
  {
   "cell_type": "code",
   "execution_count": null,
   "metadata": {
    "collapsed": true
   },
   "outputs": [],
   "source": []
  }
 ],
 "metadata": {
  "kernelspec": {
   "display_name": "Bash",
   "language": "bash",
   "name": "bash"
  },
  "language_info": {
   "codemirror_mode": "shell",
   "file_extension": ".sh",
   "mimetype": "text/x-sh",
   "name": "bash"
  }
 },
 "nbformat": 4,
 "nbformat_minor": 2
}
