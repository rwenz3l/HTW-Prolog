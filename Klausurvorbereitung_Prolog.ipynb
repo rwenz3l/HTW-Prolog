{
 "cells": [
  {
   "cell_type": "markdown",
   "metadata": {},
   "source": [
    "### Aufbau der Prolog Programme in Bash:\n",
    "```\n",
    "cat <<EOF > filename.ecl\n",
    "r:- [filename].\n",
    "% Wissen\n",
    "EOF\n",
    "\n",
    "eclipse -f filename.ecl <<EOF\n",
    "% Anfrage\n",
    "EOF\n",
    "```\n",
    "\n",
    "#### Dokumentation: http://www.eclipseclp.org/doc/bips/fullindex.html"
   ]
  },
  {
   "cell_type": "markdown",
   "metadata": {},
   "source": [
    "### Beispiel : Tiere\n",
    "##### Wissen:\n",
    "* (Alle) Pflanzenfresser sind Säugetiere\n",
    "* (Alle) Säugetiere sind Tiere\n",
    "* Jumbo ist ein Pflanzenfresser"
   ]
  },
  {
   "cell_type": "code",
   "execution_count": 1,
   "metadata": {},
   "outputs": [
    {
     "name": "stdout",
     "output_type": "stream",
     "text": [
      "ECLiPSe Constraint Logic Programming System [kernel]\n",
      "Kernel and basic libraries copyright Cisco Systems, Inc.\n",
      "and subject to the Cisco-style Mozilla Public Licence 1.1\n",
      "(see legal/cmpl.txt or http://eclipseclp.org/licence)\n",
      "Source available at www.sourceforge.org/projects/eclipse-clp\n",
      "GMP library copyright Free Software Foundation, see legal/lgpl.txt\n",
      "For other libraries see their individual copyright notices\n",
      "Version 6.1 #164 (x86_64_macosx), Mon Jul 15 23:37 2013\n",
      "[eclipse 1]: \n",
      "X = jumbo\n",
      "Yes (0.00s cpu)\n",
      "[eclipse 2]: \n",
      "bye\n"
     ]
    }
   ],
   "source": [
    "# Anfrage: Welche Tiere gibt es alle in unserem System?\n",
    "\n",
    "# Wir definieren die Relationen und Fakten:\n",
    "cat <<EOF > saeugetier.ecl\n",
    "r:- [saeugetier].\n",
    "saeugetier(X) :- pflanzenfresser(X).\n",
    "tier(X) :- saeugetier(X).\n",
    "pflanzenfresser(jumbo).\n",
    "EOF\n",
    "\n",
    "# Die Datei mit dem 'Wissen' wird geladen\n",
    "# und dann können wir anfragen an Prolog stellen:\n",
    "eclipse -f saeugetier.ecl <<EOF\n",
    "?-tier(X).\n",
    "EOF\n",
    "\n",
    "# Aktuell findet Prolog allerdings nur 1 Lösung :/"
   ]
  },
  {
   "cell_type": "markdown",
   "metadata": {},
   "source": [
    "### Beispiel : Berlin\n",
    "##### Wissen:\n",
    "* Regierungssitz ist in der Hauptstadt\n",
    "* Berlin ist Hauptstadt"
   ]
  },
  {
   "cell_type": "code",
   "execution_count": 2,
   "metadata": {
    "scrolled": true
   },
   "outputs": [
    {
     "name": "stdout",
     "output_type": "stream",
     "text": [
      "ECLiPSe Constraint Logic Programming System [kernel]\n",
      "Kernel and basic libraries copyright Cisco Systems, Inc.\n",
      "and subject to the Cisco-style Mozilla Public Licence 1.1\n",
      "(see legal/cmpl.txt or http://eclipseclp.org/licence)\n",
      "Source available at www.sourceforge.org/projects/eclipse-clp\n",
      "GMP library copyright Free Software Foundation, see legal/lgpl.txt\n",
      "For other libraries see their individual copyright notices\n",
      "Version 6.1 #164 (x86_64_macosx), Mon Jul 15 23:37 2013\n",
      "[eclipse 1]: \n",
      "Yes (0.00s cpu)\n",
      "[eclipse 2]: \n",
      "X = berlin\n",
      "Yes (0.00s cpu)\n",
      "[eclipse 3]: \n",
      "bye\n"
     ]
    }
   ],
   "source": [
    "cat <<EOF > berlin.ecl\n",
    "r:- [berlin].\n",
    "regierungssitz(berlin) :- hauptstadt(berlin).\n",
    "hauptstadt(berlin).\n",
    "EOF\n",
    "\n",
    "eclipse -f berlin.ecl <<EOF\n",
    "?-regierungssitz(berlin).\n",
    "?-regierungssitz(X).\n",
    "EOF"
   ]
  },
  {
   "cell_type": "markdown",
   "metadata": {},
   "source": [
    "### Nutzen von BIP (Built-In-Prozeduren)\n",
    "\n",
    "##### dynamic pred/1\n",
    "This directive makes it possible to alter the definition of Pred by adding or removing clauses  \n",
    "*dynamic => veränderbar*\n",
    "\n",
    "\n",
    "##### asserta(clause)\n",
    "Add specified clause at the end of the dynamic procedure to the database  \n",
    "*assert => behaupten (von einer Aussage)*\n",
    "\n",
    "##### retract(clause)\n",
    "Removes the first clause that matches the argument from the database  \n",
    "*retract => zurücknehmen (von einer Aussage)*\n",
    "\n",
    "##### !\n",
    "Cut - succeeds and removes all choice points between cut and parent goal.  \n",
    "*ist die Aussage bis hierher erfolgreich, dann wird alles andere 'abgeschnitten'*"
   ]
  },
  {
   "cell_type": "markdown",
   "metadata": {},
   "source": [
    "### Beispiel : FlipFlop"
   ]
  },
  {
   "cell_type": "code",
   "execution_count": 10,
   "metadata": {
    "scrolled": false
   },
   "outputs": [
    {
     "name": "stdout",
     "output_type": "stream",
     "text": [
      "ECLiPSe Constraint Logic Programming System [kernel]\n",
      "Kernel and basic libraries copyright Cisco Systems, Inc.\n",
      "and subject to the Cisco-style Mozilla Public Licence 1.1\n",
      "(see legal/cmpl.txt or http://eclipseclp.org/licence)\n",
      "Source available at www.sourceforge.org/projects/eclipse-clp\n",
      "GMP library copyright Free Software Foundation, see legal/lgpl.txt\n",
      "For other libraries see their individual copyright notices\n",
      "Version 6.1 #164 (x86_64_macosx), Mon Jul 15 23:37 2013\n",
      "[eclipse 1]: \n",
      "X = aus\n",
      "Yes (0.00s cpu)\n",
      "[eclipse 2]: \n",
      "X = ein\n",
      "Yes (0.00s cpu)\n",
      "[eclipse 3]: \n",
      "bye\n"
     ]
    }
   ],
   "source": [
    "cat <<EOF > einaus.ecl\n",
    "r:- [einaus].\n",
    "% Wir definieren Zustand als Dynamic,\n",
    "% damit dieser während der Laufzeit von Prolog geändert werden kann.\n",
    ":- dynamic zustand/1.\n",
    "zustand(ein). % wir setzen initial auf \"ein\"\n",
    "einaus(S) :- retract(zustand(ein)),S=aus, asserta(zustand(S)),!.\n",
    "% ! bedeutet: Wenn der Wechsel auf 'aus' erfolgreich war, wird das Programm beendet.\n",
    "einaus(S) :- retract(zustand(aus)),S=ein, asserta(zustand(S)).\n",
    "EOF\n",
    "\n",
    "eclipse -f einaus.ecl <<EOF\n",
    "?-einaus(X).\n",
    "?-einaus(X).\n",
    "EOF"
   ]
  },
  {
   "cell_type": "markdown",
   "metadata": {},
   "source": [
    "### Beispiel: Verwandschaft\n",
    "##### Wissen / Relationen\n",
    "* Tom und Maria sind Eltern von Peter\n",
    "* Lotte ist die Schwester von Peter\n",
    "* Ralf ist der Bruder von Maria.\n",
    "\n",
    "##### Frage: Ist Ralf Onkel von Peter?"
   ]
  },
  {
   "cell_type": "code",
   "execution_count": 26,
   "metadata": {},
   "outputs": [
    {
     "name": "stdout",
     "output_type": "stream",
     "text": [
      "\u001b[0;31mIst Peter der Sohn von Tom ?\u001b[0m\n",
      "ECLiPSe Constraint Logic Programming System [kernel]\n",
      "Kernel and basic libraries copyright Cisco Systems, Inc.\n",
      "and subject to the Cisco-style Mozilla Public Licence 1.1\n",
      "(see legal/cmpl.txt or http://eclipseclp.org/licence)\n",
      "Source available at www.sourceforge.org/projects/eclipse-clp\n",
      "GMP library copyright Free Software Foundation, see legal/lgpl.txt\n",
      "For other libraries see their individual copyright notices\n",
      "Version 6.1 #164 (x86_64_macosx), Mon Jul 15 23:37 2013\n",
      "[eclipse 1]: \n",
      "Yes (0.00s cpu, solution 1, maybe more) ? reading past the file end in tyi(toplevel_input, _276)\n",
      "Abort\n",
      "illegal stream specification in set_stream_property(toplevel_input, prompt, '\\t')\n",
      "\u001b[0;31mIst Tom der Vater von Lotte ?\u001b[0m\n",
      "ECLiPSe Constraint Logic Programming System [kernel]\n",
      "Kernel and basic libraries copyright Cisco Systems, Inc.\n",
      "and subject to the Cisco-style Mozilla Public Licence 1.1\n",
      "(see legal/cmpl.txt or http://eclipseclp.org/licence)\n",
      "Source available at www.sourceforge.org/projects/eclipse-clp\n",
      "GMP library copyright Free Software Foundation, see legal/lgpl.txt\n",
      "For other libraries see their individual copyright notices\n",
      "Version 6.1 #164 (x86_64_macosx), Mon Jul 15 23:37 2013\n",
      "[eclipse 1]: \n",
      "Yes (0.00s cpu, solution 1, maybe more) ? reading past the file end in tyi(toplevel_input, _276)\n",
      "Abort\n",
      "illegal stream specification in set_stream_property(toplevel_input, prompt, '\\t')\n"
     ]
    },
    {
     "ename": "",
     "evalue": "2",
     "output_type": "error",
     "traceback": []
    }
   ],
   "source": [
    "# tochter(X,Y) :- weiblich(Y), kind(X,Y).\n",
    "# z.B.: Eine kleine Familie:\n",
    "\n",
    "cat <<EOF > verwandt.ecl\n",
    "r:- [verwandt].\n",
    "maennlich(tom). % Tom ist Maennlich\n",
    "maennlich(peter). % Peter ist Maennlich\n",
    "weiblich(maria). % Maria ist weiblich\n",
    "weiblich(lotte). % Lotte ist weiblich\n",
    "kind(peter, tom). % Peter ist Kind von Tom.\n",
    "kind(peter, maria). % Peter ist Kind von Maria\n",
    "kind(lotte, tom). % Lotte ist kind von Tom\n",
    "kind(lotte, maria). % Lotte ist kind von Maria\n",
    "\n",
    "vater(X,Y) :- kind(Y,X), maennlich(X). % Ist X Vater von Y?\n",
    "mutter(X,Y):- kind(Y,X), weiblich(X). % Ist X Mutter von Y?\n",
    "sohn(X,Y) :- kind(X,Y), maennlich(X). % Ist X Sohn von Y?\n",
    "tochter(X,Y) :- kind(X,Y), weiblich(X). % Ist X Tochter von Y?\n",
    "\n",
    "EOF\n",
    "\n",
    "RED='\\033[0;31m'\n",
    "NC='\\033[0m' # No Color\n",
    "\n",
    "echo -e \"${RED}Ist Peter der Sohn von Tom ?${NC}\"\n",
    "eclipse -f verwandt.ecl <<EOF\n",
    "?- sohn(peter,tom).\n",
    "EOF\n",
    "\n",
    "echo -e \"${RED}Ist Tom der Vater von Lotte ?${NC}\"\n",
    "eclipse -f verwandt.ecl <<EOF\n",
    "?- vater(tom,lotte).\n",
    "EOF"
   ]
  },
  {
   "cell_type": "code",
   "execution_count": null,
   "metadata": {
    "collapsed": true
   },
   "outputs": [],
   "source": []
  }
 ],
 "metadata": {
  "kernelspec": {
   "display_name": "Bash",
   "language": "bash",
   "name": "bash"
  },
  "language_info": {
   "codemirror_mode": "shell",
   "file_extension": ".sh",
   "mimetype": "text/x-sh",
   "name": "bash"
  }
 },
 "nbformat": 4,
 "nbformat_minor": 2
}
