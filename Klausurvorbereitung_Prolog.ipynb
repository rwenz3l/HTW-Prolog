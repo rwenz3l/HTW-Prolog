{
 "cells": [
  {
   "cell_type": "markdown",
   "metadata": {},
   "source": [
    "### Aufbau der Prolog Programme in Bash :D\n",
    "```\n",
    "cat <<EOF > filename.ecl\n",
    "r:- [filename].\n",
    "% Wissen\n",
    "EOF\n",
    "\n",
    "eclipse -f filename.ecl <<EOF\n",
    "% Anfrage\n",
    "EOF\n",
    "```"
   ]
  },
  {
   "cell_type": "code",
   "execution_count": 1,
   "metadata": {},
   "outputs": [
    {
     "name": "stdout",
     "output_type": "stream",
     "text": [
      "ECLiPSe Constraint Logic Programming System [kernel]\n",
      "Kernel and basic libraries copyright Cisco Systems, Inc.\n",
      "and subject to the Cisco-style Mozilla Public Licence 1.1\n",
      "(see legal/cmpl.txt or http://eclipseclp.org/licence)\n",
      "Source available at www.sourceforge.org/projects/eclipse-clp\n",
      "GMP library copyright Free Software Foundation, see legal/lgpl.txt\n",
      "For other libraries see their individual copyright notices\n",
      "Version 6.1 #164 (x86_64_macosx), Mon Jul 15 23:37 2013\n",
      "[eclipse 1]: \n",
      "X = jumbo\n",
      "Yes (0.00s cpu)\n",
      "[eclipse 2]: \n",
      "bye\n"
     ]
    }
   ],
   "source": [
    "# Anfrage: Welche Tiere gibt es alle in unserem System?\n",
    "\n",
    "# Wir definieren die Relationen und Fakten:\n",
    "cat <<EOF > saeugetier.ecl\n",
    "r:- [saeugetier].\n",
    "saeugetier(X) :- pflanzenfresser(X).\n",
    "tier(X) :- saeugetier(X).\n",
    "pflanzenfresser(jumbo).\n",
    "EOF\n",
    "\n",
    "# Die Datei mit dem 'Wissen' wird geladen\n",
    "# und dann können wir anfragen an Prolog stellen:\n",
    "eclipse -f saeugetier.ecl <<EOF\n",
    "?-tier(X).\n",
    "EOF\n",
    "\n",
    "# Aktuell findet Prolog allerdings nur 1 Lösung :/"
   ]
  },
  {
   "cell_type": "code",
   "execution_count": 2,
   "metadata": {
    "scrolled": true
   },
   "outputs": [
    {
     "name": "stdout",
     "output_type": "stream",
     "text": [
      "ECLiPSe Constraint Logic Programming System [kernel]\n",
      "Kernel and basic libraries copyright Cisco Systems, Inc.\n",
      "and subject to the Cisco-style Mozilla Public Licence 1.1\n",
      "(see legal/cmpl.txt or http://eclipseclp.org/licence)\n",
      "Source available at www.sourceforge.org/projects/eclipse-clp\n",
      "GMP library copyright Free Software Foundation, see legal/lgpl.txt\n",
      "For other libraries see their individual copyright notices\n",
      "Version 6.1 #164 (x86_64_macosx), Mon Jul 15 23:37 2013\n",
      "[eclipse 1]: \n",
      "Yes (0.00s cpu)\n",
      "[eclipse 2]: \n",
      "X = berlin\n",
      "Yes (0.00s cpu)\n",
      "[eclipse 3]: \n",
      "bye\n"
     ]
    }
   ],
   "source": [
    "cat <<EOF > berlin.ecl\n",
    "r:- [berlin].\n",
    "regierungssitz(berlin) :- hauptstadt(berlin).\n",
    "hauptstadt(berlin).\n",
    "EOF\n",
    "\n",
    "eclipse -f berlin.ecl <<EOF\n",
    "?-regierungssitz(berlin).\n",
    "?-regierungssitz(X).\n",
    "EOF"
   ]
  },
  {
   "cell_type": "code",
   "execution_count": null,
   "metadata": {
    "collapsed": true
   },
   "outputs": [],
   "source": [
    "cat <<EOF > einaus.ecl\n",
    "r:- [einaus].\n",
    ":- dynamic zustand/1.\n",
    "zustand(ein).\n",
    "einaus(S):-retract(zustand(ein)),S=aus, asserta(zustand(S)),!.\n",
    "einaus(S):-retract()\n",
    "EOF\n",
    "\n",
    "eclipse -f einaus.ecl <<EOF\n",
    "\n",
    "EOF"
   ]
  }
 ],
 "metadata": {
  "kernelspec": {
   "display_name": "Bash",
   "language": "bash",
   "name": "bash"
  },
  "language_info": {
   "codemirror_mode": "shell",
   "file_extension": ".sh",
   "mimetype": "text/x-sh",
   "name": "bash"
  }
 },
 "nbformat": 4,
 "nbformat_minor": 2
}
