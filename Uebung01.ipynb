{
 "cells": [
  {
   "cell_type": "markdown",
   "metadata": {},
   "source": [
    "### Syntax\n",
    "(”?-” kennzeichnet einen Prozedur-Aufruf.\n",
    "Eintragen in IDE bzw. DOS-Box ohne “?-”)"
   ]
  },
  {
   "cell_type": "code",
   "execution_count": 10,
   "metadata": {},
   "outputs": [
    {
     "name": "stdout",
     "output_type": "stream",
     "text": [
      "ECLiPSe Constraint Logic Programming System [kernel]\n",
      "Kernel and basic libraries copyright Cisco Systems, Inc.\n",
      "and subject to the Cisco-style Mozilla Public Licence 1.1\n",
      "(see legal/cmpl.txt or http://eclipseclp.org/licence)\n",
      "Source available at www.sourceforge.org/projects/eclipse-clp\n",
      "GMP library copyright Free Software Foundation, see legal/lgpl.txt\n",
      "For other libraries see their individual copyright notices\n",
      "Version 6.1 #164 (x86_64_macosx), Mon Jul 15 23:37 2013\n",
      "[eclipse 1]: calling an undefined procedure qw(X, Z) :- number(X), Z is sqrt(X) in module eclipse\n",
      "Abort\n",
      "[eclipse 2]: \n",
      "bye\n"
     ]
    }
   ],
   "source": [
    "eclipse <<EOF\n",
    "qw(X,Z) :-           %Quadratwurzel von X ist Z\n",
    "   number(X),\n",
    "   /* X: Test, ob Wert von X ganze oder reelle Zahl ist */\n",
    "   Z is sqrt(X).     % Ergebnis ist eine reelle Zahl\n",
    "EOF"
   ]
  },
  {
   "cell_type": "code",
   "execution_count": null,
   "metadata": {
    "collapsed": true
   },
   "outputs": [],
   "source": []
  }
 ],
 "metadata": {
  "kernelspec": {
   "display_name": "Bash",
   "language": "bash",
   "name": "bash"
  },
  "language_info": {
   "codemirror_mode": "shell",
   "file_extension": ".sh",
   "mimetype": "text/x-sh",
   "name": "bash"
  }
 },
 "nbformat": 4,
 "nbformat_minor": 2
}
